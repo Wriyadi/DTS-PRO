{
  "nbformat": 4,
  "nbformat_minor": 0,
  "metadata": {
    "colab": {
      "name": "DemoDay_AirportTraffic_DL_Rizqon.ipynb",
      "provenance": [],
      "collapsed_sections": []
    },
    "kernelspec": {
      "name": "python3",
      "display_name": "Python 3"
    },
    "language_info": {
      "name": "python"
    }
  },
  "cells": [
    {
      "cell_type": "code",
      "source": [
        "import numpy as np\n",
        "import matplotlib.pyplot as plt\n",
        "from pandas import read_csv\n",
        "import math\n",
        "import timeit\n",
        "\n",
        "from keras.models import Sequential\n",
        "from keras.layers import Dense\n",
        "from sklearn.preprocessing import MinMaxScaler\n",
        "from sklearn.metrics import mean_squared_error\n",
        "from sklearn.metrics import mean_absolute_error\n"
      ],
      "metadata": {
        "id": "6typUbR__x_t"
      },
      "execution_count": 74,
      "outputs": []
    },
    {
      "cell_type": "code",
      "source": [
        "#Load the dataset\n",
        "#Menghitung data pengukuran Traffic Volume USA\n",
        "dataset= pd.read_csv('/content/drive/MyDrive/covid_impact_on_airport_traffic.csv')\n",
        "dataset_US = dataset[dataset['Country']=='United States of America (the)']\n",
        "df_US = pd.DataFrame(dataset_US.groupby('Date',as_index=True)['PercentOfBaseline'].mean())"
      ],
      "metadata": {
        "id": "FzvNwskN_zZF"
      },
      "execution_count": 75,
      "outputs": []
    },
    {
      "cell_type": "code",
      "source": [
        "#Convert pandas dataframe to numpy array\n",
        "dataset = df_US.values\n",
        "dataset = dataset.astype('float32') #COnvert values to float"
      ],
      "metadata": {
        "id": "UWTCm2H3C4es"
      },
      "execution_count": 76,
      "outputs": []
    },
    {
      "cell_type": "code",
      "source": [
        "#Normalization is optional but recommended for neural network as certain \n",
        "#activation functions are sensitive to magnitude of numbers. \n",
        "#normalize the dataset\n",
        "scaler = MinMaxScaler(feature_range=(0, 1)) #Also try QuantileTransformer\n",
        "dataset = scaler.fit_transform(dataset)"
      ],
      "metadata": {
        "id": "PWbQGTUQC4YY"
      },
      "execution_count": 77,
      "outputs": []
    },
    {
      "cell_type": "code",
      "source": [
        "#We cannot use random way of splitting dataset into train and test as\n",
        "#the sequence of events is important for time series.\n",
        "#So let us take first 60% values for train and the remaining 1/3 for testing\n",
        "# split into train and test sets\n",
        "train_size = int(len(dataset) * 0.66)\n",
        "test_size = len(dataset) - train_size\n",
        "train, test = dataset[0:train_size,:], dataset[train_size:len(dataset),:]"
      ],
      "metadata": {
        "id": "43IZMqSIEaQ5"
      },
      "execution_count": 78,
      "outputs": []
    },
    {
      "cell_type": "code",
      "source": [
        "# We cannot fit the model like we normally do for image processing where we have\n",
        "#X and Y. We need to transform our data into something that looks like X and Y values.\n",
        "# This way it can be trained on a sequence rather than indvidual datapoints. \n",
        "# Let us convert into n number of columns for X where we feed sequence of numbers\n",
        "#then the final column as Y where we provide the next number in the sequence as output.\n",
        "# So let us convert an array of values into a dataset matrix\n",
        "\n",
        "#seq_size is the number of previous time steps to use as \n",
        "#input variables to predict the next time period.\n",
        "\n",
        "#creates a dataset where X is the number of passengers at a given time (t, t-1, t-2...) \n",
        "#and Y is the number of passengers at the next time (t + 1).\n",
        "\n",
        "def to_sequences(dataset, seq_size=1):\n",
        "    x = []\n",
        "    y = []\n",
        "\n",
        "    for i in range(len(dataset)-seq_size-1):\n",
        "        #print(i)\n",
        "        window = dataset[i:(i+seq_size), 0]\n",
        "        x.append(window)\n",
        "        y.append(dataset[i+seq_size, 0])\n",
        "        \n",
        "    return np.array(x),np.array(y)\n",
        "    \n",
        "\n",
        "seq_size = 10 # Number of time steps to look back \n",
        "#Larger sequences (look further back) may improve forecasting.\n",
        "trainX, trainY = to_sequences(train, seq_size)\n",
        "testX, testY = to_sequences(test, seq_size)\n"
      ],
      "metadata": {
        "id": "U7AOLfEeEaJ4"
      },
      "execution_count": 79,
      "outputs": []
    },
    {
      "cell_type": "code",
      "source": [
        "#Compare trainX and dataset. You can see that X= values at t, t+1 and t+2\n",
        "#whereas Y is the value that follows, t+3 (since our sequence size is 3)\n",
        "\n",
        "print(\"Shape of training set: {}\".format(trainX.shape))\n",
        "print(\"Shape of test set: {}\".format(testX.shape))"
      ],
      "metadata": {
        "colab": {
          "base_uri": "https://localhost:8080/"
        },
        "id": "bcORaciJEaFG",
        "outputId": "33df77e6-037b-4a2c-b987-e2af819ef70a"
      },
      "execution_count": 80,
      "outputs": [
        {
          "output_type": "stream",
          "name": "stdout",
          "text": [
            "Shape of training set: (161, 10)\n",
            "Shape of test set: (79, 10)\n"
          ]
        }
      ]
    },
    {
      "cell_type": "code",
      "source": [
        "#Input dimensions are... (N x seq_size)\n",
        "print('Build deep model...')\n",
        "# create and fit dense model\n",
        "model = Sequential()\n",
        "model.add(Dense(64, input_dim=seq_size, activation='relu')) #12\n",
        "model.add(Dense(32, activation='relu'))  #8\n",
        "model.add(Dense(1))\n",
        "model.compile(loss='mean_squared_error', optimizer='adam', metrics = ['acc'])\n",
        "print(model.summary()) \n",
        "\n",
        "#for layer in model.layers:\n",
        "#print(layer.input_shape)\n",
        "\n",
        "#Model.fit(trainX, trainY, epochs=200, batch_size=2, verbose=2)\n",
        "#Menghitung waktu yang diperlukan untuk pemodelan\n",
        "start = timeit.default_timer()\n",
        "model.fit(trainX, trainY, validation_data=(testX, testY),\n",
        "          verbose=2, epochs=100)\n",
        "stop = timeit.default_timer()\n",
        "lama_eksekusi = stop - start\n",
        "print(\"Lama eksekusi: \",lama_eksekusi,\"detik\")\n"
      ],
      "metadata": {
        "colab": {
          "base_uri": "https://localhost:8080/"
        },
        "id": "dvPh7yNcEZ_9",
        "outputId": "86ac2a1c-c2b6-476e-d0d7-dce6d5c177d3"
      },
      "execution_count": 81,
      "outputs": [
        {
          "output_type": "stream",
          "name": "stdout",
          "text": [
            "Build deep model...\n",
            "Model: \"sequential_3\"\n",
            "_________________________________________________________________\n",
            " Layer (type)                Output Shape              Param #   \n",
            "=================================================================\n",
            " dense_7 (Dense)             (None, 64)                704       \n",
            "                                                                 \n",
            " dense_8 (Dense)             (None, 32)                2080      \n",
            "                                                                 \n",
            " dense_9 (Dense)             (None, 1)                 33        \n",
            "                                                                 \n",
            "=================================================================\n",
            "Total params: 2,817\n",
            "Trainable params: 2,817\n",
            "Non-trainable params: 0\n",
            "_________________________________________________________________\n",
            "None\n",
            "Epoch 1/100\n",
            "6/6 - 1s - loss: 0.8446 - acc: 0.0062 - val_loss: 0.6616 - val_acc: 0.0000e+00 - 638ms/epoch - 106ms/step\n",
            "Epoch 2/100\n",
            "6/6 - 0s - loss: 0.3821 - acc: 0.0062 - val_loss: 0.2474 - val_acc: 0.0000e+00 - 36ms/epoch - 6ms/step\n",
            "Epoch 3/100\n",
            "6/6 - 0s - loss: 0.1291 - acc: 0.0062 - val_loss: 0.0516 - val_acc: 0.0000e+00 - 38ms/epoch - 6ms/step\n",
            "Epoch 4/100\n",
            "6/6 - 0s - loss: 0.0228 - acc: 0.0000e+00 - val_loss: 0.0077 - val_acc: 0.0000e+00 - 35ms/epoch - 6ms/step\n",
            "Epoch 5/100\n",
            "6/6 - 0s - loss: 0.0103 - acc: 0.0000e+00 - val_loss: 0.0155 - val_acc: 0.0000e+00 - 35ms/epoch - 6ms/step\n",
            "Epoch 6/100\n",
            "6/6 - 0s - loss: 0.0180 - acc: 0.0000e+00 - val_loss: 0.0170 - val_acc: 0.0000e+00 - 54ms/epoch - 9ms/step\n",
            "Epoch 7/100\n",
            "6/6 - 0s - loss: 0.0152 - acc: 0.0000e+00 - val_loss: 0.0096 - val_acc: 0.0000e+00 - 50ms/epoch - 8ms/step\n",
            "Epoch 8/100\n",
            "6/6 - 0s - loss: 0.0095 - acc: 0.0000e+00 - val_loss: 0.0076 - val_acc: 0.0000e+00 - 39ms/epoch - 6ms/step\n",
            "Epoch 9/100\n",
            "6/6 - 0s - loss: 0.0089 - acc: 0.0000e+00 - val_loss: 0.0089 - val_acc: 0.0000e+00 - 60ms/epoch - 10ms/step\n",
            "Epoch 10/100\n",
            "6/6 - 0s - loss: 0.0091 - acc: 0.0000e+00 - val_loss: 0.0083 - val_acc: 0.0000e+00 - 47ms/epoch - 8ms/step\n",
            "Epoch 11/100\n",
            "6/6 - 0s - loss: 0.0087 - acc: 0.0000e+00 - val_loss: 0.0075 - val_acc: 0.0000e+00 - 59ms/epoch - 10ms/step\n",
            "Epoch 12/100\n",
            "6/6 - 0s - loss: 0.0084 - acc: 0.0000e+00 - val_loss: 0.0074 - val_acc: 0.0000e+00 - 54ms/epoch - 9ms/step\n",
            "Epoch 13/100\n",
            "6/6 - 0s - loss: 0.0084 - acc: 0.0000e+00 - val_loss: 0.0074 - val_acc: 0.0000e+00 - 61ms/epoch - 10ms/step\n",
            "Epoch 14/100\n",
            "6/6 - 0s - loss: 0.0083 - acc: 0.0000e+00 - val_loss: 0.0073 - val_acc: 0.0000e+00 - 53ms/epoch - 9ms/step\n",
            "Epoch 15/100\n",
            "6/6 - 0s - loss: 0.0084 - acc: 0.0000e+00 - val_loss: 0.0073 - val_acc: 0.0000e+00 - 55ms/epoch - 9ms/step\n",
            "Epoch 16/100\n",
            "6/6 - 0s - loss: 0.0083 - acc: 0.0000e+00 - val_loss: 0.0073 - val_acc: 0.0000e+00 - 59ms/epoch - 10ms/step\n",
            "Epoch 17/100\n",
            "6/6 - 0s - loss: 0.0082 - acc: 0.0000e+00 - val_loss: 0.0073 - val_acc: 0.0000e+00 - 65ms/epoch - 11ms/step\n",
            "Epoch 18/100\n",
            "6/6 - 0s - loss: 0.0082 - acc: 0.0000e+00 - val_loss: 0.0072 - val_acc: 0.0000e+00 - 57ms/epoch - 10ms/step\n",
            "Epoch 19/100\n",
            "6/6 - 0s - loss: 0.0082 - acc: 0.0000e+00 - val_loss: 0.0072 - val_acc: 0.0000e+00 - 52ms/epoch - 9ms/step\n",
            "Epoch 20/100\n",
            "6/6 - 0s - loss: 0.0080 - acc: 0.0000e+00 - val_loss: 0.0072 - val_acc: 0.0000e+00 - 53ms/epoch - 9ms/step\n",
            "Epoch 21/100\n",
            "6/6 - 0s - loss: 0.0078 - acc: 0.0000e+00 - val_loss: 0.0073 - val_acc: 0.0000e+00 - 39ms/epoch - 6ms/step\n",
            "Epoch 22/100\n",
            "6/6 - 0s - loss: 0.0078 - acc: 0.0000e+00 - val_loss: 0.0072 - val_acc: 0.0000e+00 - 37ms/epoch - 6ms/step\n",
            "Epoch 23/100\n",
            "6/6 - 0s - loss: 0.0077 - acc: 0.0000e+00 - val_loss: 0.0076 - val_acc: 0.0000e+00 - 59ms/epoch - 10ms/step\n",
            "Epoch 24/100\n",
            "6/6 - 0s - loss: 0.0079 - acc: 0.0000e+00 - val_loss: 0.0076 - val_acc: 0.0000e+00 - 56ms/epoch - 9ms/step\n",
            "Epoch 25/100\n",
            "6/6 - 0s - loss: 0.0077 - acc: 0.0000e+00 - val_loss: 0.0072 - val_acc: 0.0000e+00 - 40ms/epoch - 7ms/step\n",
            "Epoch 26/100\n",
            "6/6 - 0s - loss: 0.0077 - acc: 0.0000e+00 - val_loss: 0.0070 - val_acc: 0.0000e+00 - 47ms/epoch - 8ms/step\n",
            "Epoch 27/100\n",
            "6/6 - 0s - loss: 0.0077 - acc: 0.0000e+00 - val_loss: 0.0071 - val_acc: 0.0000e+00 - 59ms/epoch - 10ms/step\n",
            "Epoch 28/100\n",
            "6/6 - 0s - loss: 0.0076 - acc: 0.0000e+00 - val_loss: 0.0073 - val_acc: 0.0000e+00 - 59ms/epoch - 10ms/step\n",
            "Epoch 29/100\n",
            "6/6 - 0s - loss: 0.0076 - acc: 0.0000e+00 - val_loss: 0.0075 - val_acc: 0.0000e+00 - 53ms/epoch - 9ms/step\n",
            "Epoch 30/100\n",
            "6/6 - 0s - loss: 0.0076 - acc: 0.0000e+00 - val_loss: 0.0072 - val_acc: 0.0000e+00 - 46ms/epoch - 8ms/step\n",
            "Epoch 31/100\n",
            "6/6 - 0s - loss: 0.0076 - acc: 0.0000e+00 - val_loss: 0.0071 - val_acc: 0.0000e+00 - 60ms/epoch - 10ms/step\n",
            "Epoch 32/100\n",
            "6/6 - 0s - loss: 0.0075 - acc: 0.0000e+00 - val_loss: 0.0074 - val_acc: 0.0000e+00 - 40ms/epoch - 7ms/step\n",
            "Epoch 33/100\n",
            "6/6 - 0s - loss: 0.0075 - acc: 0.0000e+00 - val_loss: 0.0071 - val_acc: 0.0000e+00 - 43ms/epoch - 7ms/step\n",
            "Epoch 34/100\n",
            "6/6 - 0s - loss: 0.0074 - acc: 0.0000e+00 - val_loss: 0.0071 - val_acc: 0.0000e+00 - 60ms/epoch - 10ms/step\n",
            "Epoch 35/100\n",
            "6/6 - 0s - loss: 0.0077 - acc: 0.0000e+00 - val_loss: 0.0070 - val_acc: 0.0000e+00 - 42ms/epoch - 7ms/step\n",
            "Epoch 36/100\n",
            "6/6 - 0s - loss: 0.0077 - acc: 0.0000e+00 - val_loss: 0.0079 - val_acc: 0.0000e+00 - 39ms/epoch - 6ms/step\n",
            "Epoch 37/100\n",
            "6/6 - 0s - loss: 0.0076 - acc: 0.0000e+00 - val_loss: 0.0071 - val_acc: 0.0000e+00 - 44ms/epoch - 7ms/step\n",
            "Epoch 38/100\n",
            "6/6 - 0s - loss: 0.0075 - acc: 0.0000e+00 - val_loss: 0.0069 - val_acc: 0.0000e+00 - 57ms/epoch - 9ms/step\n",
            "Epoch 39/100\n",
            "6/6 - 0s - loss: 0.0075 - acc: 0.0000e+00 - val_loss: 0.0076 - val_acc: 0.0000e+00 - 49ms/epoch - 8ms/step\n",
            "Epoch 40/100\n",
            "6/6 - 0s - loss: 0.0076 - acc: 0.0000e+00 - val_loss: 0.0071 - val_acc: 0.0000e+00 - 50ms/epoch - 8ms/step\n",
            "Epoch 41/100\n",
            "6/6 - 0s - loss: 0.0074 - acc: 0.0000e+00 - val_loss: 0.0070 - val_acc: 0.0000e+00 - 40ms/epoch - 7ms/step\n",
            "Epoch 42/100\n",
            "6/6 - 0s - loss: 0.0074 - acc: 0.0000e+00 - val_loss: 0.0069 - val_acc: 0.0000e+00 - 58ms/epoch - 10ms/step\n",
            "Epoch 43/100\n",
            "6/6 - 0s - loss: 0.0076 - acc: 0.0000e+00 - val_loss: 0.0069 - val_acc: 0.0000e+00 - 71ms/epoch - 12ms/step\n",
            "Epoch 44/100\n",
            "6/6 - 0s - loss: 0.0073 - acc: 0.0000e+00 - val_loss: 0.0079 - val_acc: 0.0000e+00 - 40ms/epoch - 7ms/step\n",
            "Epoch 45/100\n",
            "6/6 - 0s - loss: 0.0074 - acc: 0.0000e+00 - val_loss: 0.0070 - val_acc: 0.0000e+00 - 39ms/epoch - 6ms/step\n",
            "Epoch 46/100\n",
            "6/6 - 0s - loss: 0.0073 - acc: 0.0000e+00 - val_loss: 0.0076 - val_acc: 0.0000e+00 - 50ms/epoch - 8ms/step\n",
            "Epoch 47/100\n",
            "6/6 - 0s - loss: 0.0074 - acc: 0.0000e+00 - val_loss: 0.0074 - val_acc: 0.0000e+00 - 40ms/epoch - 7ms/step\n",
            "Epoch 48/100\n",
            "6/6 - 0s - loss: 0.0071 - acc: 0.0000e+00 - val_loss: 0.0069 - val_acc: 0.0000e+00 - 38ms/epoch - 6ms/step\n",
            "Epoch 49/100\n",
            "6/6 - 0s - loss: 0.0074 - acc: 0.0000e+00 - val_loss: 0.0068 - val_acc: 0.0000e+00 - 37ms/epoch - 6ms/step\n",
            "Epoch 50/100\n",
            "6/6 - 0s - loss: 0.0070 - acc: 0.0000e+00 - val_loss: 0.0097 - val_acc: 0.0000e+00 - 52ms/epoch - 9ms/step\n",
            "Epoch 51/100\n",
            "6/6 - 0s - loss: 0.0141 - acc: 0.0000e+00 - val_loss: 0.0270 - val_acc: 0.0000e+00 - 39ms/epoch - 6ms/step\n",
            "Epoch 52/100\n",
            "6/6 - 0s - loss: 0.0144 - acc: 0.0000e+00 - val_loss: 0.0077 - val_acc: 0.0000e+00 - 37ms/epoch - 6ms/step\n",
            "Epoch 53/100\n",
            "6/6 - 0s - loss: 0.0107 - acc: 0.0000e+00 - val_loss: 0.0075 - val_acc: 0.0000e+00 - 42ms/epoch - 7ms/step\n",
            "Epoch 54/100\n",
            "6/6 - 0s - loss: 0.0084 - acc: 0.0000e+00 - val_loss: 0.0105 - val_acc: 0.0000e+00 - 37ms/epoch - 6ms/step\n",
            "Epoch 55/100\n",
            "6/6 - 0s - loss: 0.0099 - acc: 0.0000e+00 - val_loss: 0.0089 - val_acc: 0.0000e+00 - 59ms/epoch - 10ms/step\n",
            "Epoch 56/100\n",
            "6/6 - 0s - loss: 0.0078 - acc: 0.0000e+00 - val_loss: 0.0067 - val_acc: 0.0000e+00 - 40ms/epoch - 7ms/step\n",
            "Epoch 57/100\n",
            "6/6 - 0s - loss: 0.0081 - acc: 0.0000e+00 - val_loss: 0.0067 - val_acc: 0.0000e+00 - 51ms/epoch - 8ms/step\n",
            "Epoch 58/100\n",
            "6/6 - 0s - loss: 0.0077 - acc: 0.0000e+00 - val_loss: 0.0077 - val_acc: 0.0000e+00 - 35ms/epoch - 6ms/step\n",
            "Epoch 59/100\n",
            "6/6 - 0s - loss: 0.0079 - acc: 0.0000e+00 - val_loss: 0.0074 - val_acc: 0.0000e+00 - 41ms/epoch - 7ms/step\n",
            "Epoch 60/100\n",
            "6/6 - 0s - loss: 0.0074 - acc: 0.0000e+00 - val_loss: 0.0066 - val_acc: 0.0000e+00 - 37ms/epoch - 6ms/step\n",
            "Epoch 61/100\n",
            "6/6 - 0s - loss: 0.0076 - acc: 0.0000e+00 - val_loss: 0.0066 - val_acc: 0.0000e+00 - 36ms/epoch - 6ms/step\n",
            "Epoch 62/100\n",
            "6/6 - 0s - loss: 0.0074 - acc: 0.0000e+00 - val_loss: 0.0069 - val_acc: 0.0000e+00 - 52ms/epoch - 9ms/step\n",
            "Epoch 63/100\n",
            "6/6 - 0s - loss: 0.0073 - acc: 0.0000e+00 - val_loss: 0.0068 - val_acc: 0.0000e+00 - 40ms/epoch - 7ms/step\n",
            "Epoch 64/100\n",
            "6/6 - 0s - loss: 0.0074 - acc: 0.0000e+00 - val_loss: 0.0066 - val_acc: 0.0000e+00 - 46ms/epoch - 8ms/step\n",
            "Epoch 65/100\n",
            "6/6 - 0s - loss: 0.0073 - acc: 0.0000e+00 - val_loss: 0.0067 - val_acc: 0.0000e+00 - 56ms/epoch - 9ms/step\n",
            "Epoch 66/100\n",
            "6/6 - 0s - loss: 0.0072 - acc: 0.0000e+00 - val_loss: 0.0066 - val_acc: 0.0000e+00 - 61ms/epoch - 10ms/step\n",
            "Epoch 67/100\n",
            "6/6 - 0s - loss: 0.0077 - acc: 0.0000e+00 - val_loss: 0.0067 - val_acc: 0.0000e+00 - 41ms/epoch - 7ms/step\n",
            "Epoch 68/100\n",
            "6/6 - 0s - loss: 0.0075 - acc: 0.0000e+00 - val_loss: 0.0067 - val_acc: 0.0000e+00 - 42ms/epoch - 7ms/step\n",
            "Epoch 69/100\n",
            "6/6 - 0s - loss: 0.0071 - acc: 0.0000e+00 - val_loss: 0.0070 - val_acc: 0.0000e+00 - 62ms/epoch - 10ms/step\n",
            "Epoch 70/100\n",
            "6/6 - 0s - loss: 0.0071 - acc: 0.0000e+00 - val_loss: 0.0068 - val_acc: 0.0000e+00 - 58ms/epoch - 10ms/step\n",
            "Epoch 71/100\n",
            "6/6 - 0s - loss: 0.0070 - acc: 0.0000e+00 - val_loss: 0.0068 - val_acc: 0.0000e+00 - 54ms/epoch - 9ms/step\n",
            "Epoch 72/100\n",
            "6/6 - 0s - loss: 0.0070 - acc: 0.0000e+00 - val_loss: 0.0071 - val_acc: 0.0000e+00 - 37ms/epoch - 6ms/step\n",
            "Epoch 73/100\n",
            "6/6 - 0s - loss: 0.0069 - acc: 0.0000e+00 - val_loss: 0.0069 - val_acc: 0.0000e+00 - 56ms/epoch - 9ms/step\n",
            "Epoch 74/100\n",
            "6/6 - 0s - loss: 0.0069 - acc: 0.0000e+00 - val_loss: 0.0073 - val_acc: 0.0000e+00 - 58ms/epoch - 10ms/step\n",
            "Epoch 75/100\n",
            "6/6 - 0s - loss: 0.0069 - acc: 0.0000e+00 - val_loss: 0.0070 - val_acc: 0.0000e+00 - 42ms/epoch - 7ms/step\n",
            "Epoch 76/100\n",
            "6/6 - 0s - loss: 0.0068 - acc: 0.0000e+00 - val_loss: 0.0069 - val_acc: 0.0000e+00 - 40ms/epoch - 7ms/step\n",
            "Epoch 77/100\n",
            "6/6 - 0s - loss: 0.0068 - acc: 0.0000e+00 - val_loss: 0.0068 - val_acc: 0.0000e+00 - 36ms/epoch - 6ms/step\n",
            "Epoch 78/100\n",
            "6/6 - 0s - loss: 0.0067 - acc: 0.0000e+00 - val_loss: 0.0071 - val_acc: 0.0000e+00 - 58ms/epoch - 10ms/step\n",
            "Epoch 79/100\n",
            "6/6 - 0s - loss: 0.0068 - acc: 0.0000e+00 - val_loss: 0.0073 - val_acc: 0.0000e+00 - 40ms/epoch - 7ms/step\n",
            "Epoch 80/100\n",
            "6/6 - 0s - loss: 0.0067 - acc: 0.0000e+00 - val_loss: 0.0069 - val_acc: 0.0000e+00 - 42ms/epoch - 7ms/step\n",
            "Epoch 81/100\n",
            "6/6 - 0s - loss: 0.0068 - acc: 0.0000e+00 - val_loss: 0.0067 - val_acc: 0.0000e+00 - 36ms/epoch - 6ms/step\n",
            "Epoch 82/100\n",
            "6/6 - 0s - loss: 0.0070 - acc: 0.0000e+00 - val_loss: 0.0067 - val_acc: 0.0000e+00 - 41ms/epoch - 7ms/step\n",
            "Epoch 83/100\n",
            "6/6 - 0s - loss: 0.0067 - acc: 0.0000e+00 - val_loss: 0.0070 - val_acc: 0.0000e+00 - 55ms/epoch - 9ms/step\n",
            "Epoch 84/100\n",
            "6/6 - 0s - loss: 0.0067 - acc: 0.0000e+00 - val_loss: 0.0070 - val_acc: 0.0000e+00 - 64ms/epoch - 11ms/step\n",
            "Epoch 85/100\n",
            "6/6 - 0s - loss: 0.0067 - acc: 0.0000e+00 - val_loss: 0.0066 - val_acc: 0.0000e+00 - 41ms/epoch - 7ms/step\n",
            "Epoch 86/100\n",
            "6/6 - 0s - loss: 0.0067 - acc: 0.0000e+00 - val_loss: 0.0071 - val_acc: 0.0000e+00 - 37ms/epoch - 6ms/step\n",
            "Epoch 87/100\n",
            "6/6 - 0s - loss: 0.0066 - acc: 0.0000e+00 - val_loss: 0.0070 - val_acc: 0.0000e+00 - 57ms/epoch - 10ms/step\n",
            "Epoch 88/100\n",
            "6/6 - 0s - loss: 0.0066 - acc: 0.0000e+00 - val_loss: 0.0067 - val_acc: 0.0000e+00 - 65ms/epoch - 11ms/step\n",
            "Epoch 89/100\n",
            "6/6 - 0s - loss: 0.0069 - acc: 0.0000e+00 - val_loss: 0.0066 - val_acc: 0.0000e+00 - 59ms/epoch - 10ms/step\n",
            "Epoch 90/100\n",
            "6/6 - 0s - loss: 0.0065 - acc: 0.0000e+00 - val_loss: 0.0073 - val_acc: 0.0000e+00 - 45ms/epoch - 8ms/step\n",
            "Epoch 91/100\n",
            "6/6 - 0s - loss: 0.0067 - acc: 0.0000e+00 - val_loss: 0.0077 - val_acc: 0.0000e+00 - 47ms/epoch - 8ms/step\n",
            "Epoch 92/100\n",
            "6/6 - 0s - loss: 0.0068 - acc: 0.0000e+00 - val_loss: 0.0069 - val_acc: 0.0000e+00 - 42ms/epoch - 7ms/step\n",
            "Epoch 93/100\n",
            "6/6 - 0s - loss: 0.0068 - acc: 0.0000e+00 - val_loss: 0.0065 - val_acc: 0.0000e+00 - 41ms/epoch - 7ms/step\n",
            "Epoch 94/100\n",
            "6/6 - 0s - loss: 0.0067 - acc: 0.0000e+00 - val_loss: 0.0069 - val_acc: 0.0000e+00 - 53ms/epoch - 9ms/step\n",
            "Epoch 95/100\n",
            "6/6 - 0s - loss: 0.0067 - acc: 0.0000e+00 - val_loss: 0.0081 - val_acc: 0.0000e+00 - 41ms/epoch - 7ms/step\n",
            "Epoch 96/100\n",
            "6/6 - 0s - loss: 0.0068 - acc: 0.0000e+00 - val_loss: 0.0073 - val_acc: 0.0000e+00 - 36ms/epoch - 6ms/step\n",
            "Epoch 97/100\n",
            "6/6 - 0s - loss: 0.0070 - acc: 0.0000e+00 - val_loss: 0.0087 - val_acc: 0.0000e+00 - 36ms/epoch - 6ms/step\n",
            "Epoch 98/100\n",
            "6/6 - 0s - loss: 0.0070 - acc: 0.0000e+00 - val_loss: 0.0065 - val_acc: 0.0000e+00 - 62ms/epoch - 10ms/step\n",
            "Epoch 99/100\n",
            "6/6 - 0s - loss: 0.0070 - acc: 0.0000e+00 - val_loss: 0.0065 - val_acc: 0.0000e+00 - 34ms/epoch - 6ms/step\n",
            "Epoch 100/100\n",
            "6/6 - 0s - loss: 0.0066 - acc: 0.0000e+00 - val_loss: 0.0069 - val_acc: 0.0000e+00 - 51ms/epoch - 9ms/step\n",
            "Lama eksekusi:  10.77138241099965 detik\n"
          ]
        }
      ]
    },
    {
      "cell_type": "code",
      "source": [
        "#Make predictions\n",
        "trainPredict = model.predict(trainX)\n",
        "testPredict = model.predict(testX)"
      ],
      "metadata": {
        "id": "LH-0De6DEZ7A"
      },
      "execution_count": 83,
      "outputs": []
    },
    {
      "cell_type": "code",
      "source": [
        "#Estimate model performance\n",
        "#Since we used minmaxscaler we can now use scaler.inverse_transform\n",
        "#to invert the transformation.\n",
        "\n",
        "trainPredict = scaler.inverse_transform(trainPredict)\n",
        "trainY_inverse = scaler.inverse_transform([trainY])\n",
        "testPredict = scaler.inverse_transform(testPredict)\n",
        "testY_inverse = scaler.inverse_transform([testY])"
      ],
      "metadata": {
        "id": "ZsH66KjSEZ1-"
      },
      "execution_count": 84,
      "outputs": []
    },
    {
      "cell_type": "code",
      "source": [
        "# calculate root mean squared error\n",
        "trainScore = math.sqrt(mean_squared_error(trainY_inverse[0], trainPredict[:,0]))\n",
        "print('Train Score: %.2f RMSE' % (trainScore))\n",
        "testScore = math.sqrt(mean_squared_error(testY_inverse[0], testPredict[:,0]))\n",
        "print('Test Score: %.2f RMSE' % (testScore))"
      ],
      "metadata": {
        "colab": {
          "base_uri": "https://localhost:8080/"
        },
        "id": "pYCqxdDUEZw7",
        "outputId": "c2c2398f-5b16-419b-ae5f-1a4738eab7b5"
      },
      "execution_count": 85,
      "outputs": [
        {
          "output_type": "stream",
          "name": "stdout",
          "text": [
            "Train Score: 7.08 RMSE\n",
            "Test Score: 7.29 RMSE\n"
          ]
        }
      ]
    },
    {
      "cell_type": "code",
      "source": [
        "#Menghitung mean absolute error\n",
        "mae = mean_absolute_error(trainY_inverse[0], trainPredict[:,0])\n",
        "print(\"Mean Absolute Error (MAE): \", mae)"
      ],
      "metadata": {
        "colab": {
          "base_uri": "https://localhost:8080/"
        },
        "id": "Mi5U2VmJLlWq",
        "outputId": "e35a62f1-a32c-4dba-8a19-d7a56f527d44"
      },
      "execution_count": 88,
      "outputs": [
        {
          "output_type": "stream",
          "name": "stdout",
          "text": [
            "Mean Absolute Error (MAE):  4.025252304288851\n"
          ]
        }
      ]
    },
    {
      "cell_type": "code",
      "source": [
        "#Shift train predictions for plotting\n",
        "#we must shift the predictions so that they align on the x-axis with the original dataset. \n",
        "trainPredictPlot = np.empty_like(dataset)\n",
        "trainPredictPlot[:, :] = np.nan\n",
        "trainPredictPlot[seq_size:len(trainPredict)+seq_size, :] = trainPredict\n",
        "\n",
        "#Shift test predictions for plotting\n",
        "testPredictPlot = np.empty_like(dataset)\n",
        "testPredictPlot[:, :] = np.nan\n",
        "testPredictPlot[len(trainPredict)+(seq_size*2)+1:len(dataset)-1, :] = testPredict"
      ],
      "metadata": {
        "id": "83WVaH8WC4Qu"
      },
      "execution_count": 89,
      "outputs": []
    },
    {
      "cell_type": "code",
      "source": [
        "#Plot baseline and predictions\n",
        "plt.plot(scaler.inverse_transform(dataset))\n",
        "plt.plot(trainPredictPlot)\n",
        "plt.plot(testPredictPlot)\n",
        "plt.show()"
      ],
      "metadata": {
        "colab": {
          "base_uri": "https://localhost:8080/",
          "height": 265
        },
        "id": "n1RdbAs6KvEC",
        "outputId": "9b7dcad7-eaff-49b3-8ecb-6601a7ddcd6b"
      },
      "execution_count": 90,
      "outputs": [
        {
          "output_type": "display_data",
          "data": {
            "text/plain": [
              "<Figure size 432x288 with 1 Axes>"
            ],
            "image/png": "[encoded data removed]"
          },
          "metadata": {
            "needs_background": "light"
          }
        }
      ]
    },
    {
      "cell_type": "code",
      "source": [
        ""
      ],
      "metadata": {
        "id": "ptt1B0VUKw2u"
      },
      "execution_count": null,
      "outputs": []
    }
  ]
}