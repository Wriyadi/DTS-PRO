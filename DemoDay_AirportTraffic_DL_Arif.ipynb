{
 "cells": [
  {
   "cell_type": "code",
   "execution_count": 5,
   "metadata": {},
   "outputs": [],
   "source": [
    "import numpy as np\n",
    "import pandas as pd\n",
    "import matplotlib.pyplot as plt\n",
    "from pandas import read_csv\n",
    "import math\n",
    "import timeit\n",
    "\n",
    "from keras.models import Sequential\n",
    "from keras.layers import Dense\n",
    "from sklearn.preprocessing import MinMaxScaler\n",
    "from sklearn.metrics import mean_squared_error\n",
    "from sklearn.metrics import mean_absolute_error"
   ]
  },
  {
   "cell_type": "code",
   "execution_count": 15,
   "metadata": {},
   "outputs": [
    {
     "data": {
      "text/plain": [
       "United States of America (the)    4441\n",
       "Canada                            2311\n",
       "Australia                          257\n",
       "Chile                              238\n",
       "Name: Country, dtype: int64"
      ]
     },
     "execution_count": 15,
     "metadata": {},
     "output_type": "execute_result"
    }
   ],
   "source": [
    "data = pd.read_csv('covid_impact_on_airport_traffic.csv')\n",
    "data.Country.value_counts()"
   ]
  },
  {
   "cell_type": "code",
   "execution_count": 18,
   "metadata": {},
   "outputs": [
    {
     "data": {
      "text/html": [
       "<div>\n",
       "<style scoped>\n",
       "    .dataframe tbody tr th:only-of-type {\n",
       "        vertical-align: middle;\n",
       "    }\n",
       "\n",
       "    .dataframe tbody tr th {\n",
       "        vertical-align: top;\n",
       "    }\n",
       "\n",
       "    .dataframe thead th {\n",
       "        text-align: right;\n",
       "    }\n",
       "</style>\n",
       "<table border=\"1\" class=\"dataframe\">\n",
       "  <thead>\n",
       "    <tr style=\"text-align: right;\">\n",
       "      <th></th>\n",
       "      <th>PercentOfBaseline</th>\n",
       "    </tr>\n",
       "    <tr>\n",
       "      <th>Date</th>\n",
       "      <th></th>\n",
       "    </tr>\n",
       "  </thead>\n",
       "  <tbody>\n",
       "    <tr>\n",
       "      <th>2020-03-16</th>\n",
       "      <td>92.333333</td>\n",
       "    </tr>\n",
       "    <tr>\n",
       "      <th>2020-03-17</th>\n",
       "      <td>87.888889</td>\n",
       "    </tr>\n",
       "    <tr>\n",
       "      <th>2020-03-18</th>\n",
       "      <td>88.000000</td>\n",
       "    </tr>\n",
       "    <tr>\n",
       "      <th>2020-03-19</th>\n",
       "      <td>84.777778</td>\n",
       "    </tr>\n",
       "    <tr>\n",
       "      <th>2020-03-20</th>\n",
       "      <td>86.666667</td>\n",
       "    </tr>\n",
       "  </tbody>\n",
       "</table>\n",
       "</div>"
      ],
      "text/plain": [
       "            PercentOfBaseline\n",
       "Date                         \n",
       "2020-03-16          92.333333\n",
       "2020-03-17          87.888889\n",
       "2020-03-18          88.000000\n",
       "2020-03-19          84.777778\n",
       "2020-03-20          86.666667"
      ]
     },
     "execution_count": 18,
     "metadata": {},
     "output_type": "execute_result"
    }
   ],
   "source": [
    "dataset_Canada = data[data['Country']=='Canada']\n",
    "df_Canada = pd.DataFrame(dataset_Canada.groupby('Date',as_index=True)['PercentOfBaseline'].mean())\n",
    "df_Canada.head()"
   ]
  },
  {
   "cell_type": "code",
   "execution_count": 19,
   "metadata": {},
   "outputs": [],
   "source": [
    "#Convert pandas dataframe to numpy array\n",
    "dataset = df_Canada.values\n",
    "dataset = dataset.astype('float32') #COnvert values to float"
   ]
  },
  {
   "cell_type": "code",
   "execution_count": 20,
   "metadata": {},
   "outputs": [],
   "source": [
    "#Normalization is optional but recommended for neural network as certain \n",
    "#activation functions are sensitive to magnitude of numbers. \n",
    "#normalize the dataset\n",
    "scaler = MinMaxScaler(feature_range=(0, 1)) #Also try QuantileTransformer\n",
    "dataset = scaler.fit_transform(dataset)"
   ]
  },
  {
   "cell_type": "code",
   "execution_count": 21,
   "metadata": {},
   "outputs": [],
   "source": [
    "#We cannot use random way of splitting dataset into train and test as\n",
    "#the sequence of events is important for time series.\n",
    "#So let us take first 60% values for train and the remaining 1/3 for testing\n",
    "# split into train and test sets\n",
    "train_size = int(len(dataset) * 0.66)\n",
    "test_size = len(dataset) - train_size\n",
    "train, test = dataset[0:train_size,:], dataset[train_size:len(dataset),:]"
   ]
  },
  {
   "cell_type": "code",
   "execution_count": 23,
   "metadata": {},
   "outputs": [],
   "source": [
    "# We cannot fit the model like we normally do for image processing where we have\n",
    "#X and Y. We need to transform our data into something that looks like X and Y values.\n",
    "# This way it can be trained on a sequence rather than indvidual datapoints. \n",
    "# Let us convert into n number of columns for X where we feed sequence of numbers\n",
    "#then the final column as Y where we provide the next number in the sequence as output.\n",
    "# So let us convert an array of values into a dataset matrix\n",
    "\n",
    "#seq_size is the number of previous time steps to use as \n",
    "#input variables to predict the next time period.\n",
    "\n",
    "#creates a dataset where X is the number of passengers at a given time (t, t-1, t-2...) \n",
    "#and Y is the number of passengers at the next time (t + 1).\n",
    "\n",
    "def to_sequences(dataset, seq_size=1):\n",
    "    x = []\n",
    "    y = []\n",
    "\n",
    "    for i in range(len(dataset)-seq_size-1):\n",
    "        #print(i)\n",
    "        window = dataset[i:(i+seq_size), 0]\n",
    "        x.append(window)\n",
    "        y.append(dataset[i+seq_size, 0])\n",
    "        \n",
    "    return np.array(x),np.array(y)\n",
    "    \n",
    "\n",
    "seq_size = 10 # Number of time steps to look back \n",
    "#Larger sequences (look further back) may improve forecasting.\n",
    "trainX, trainY = to_sequences(train, seq_size)\n",
    "testX, testY = to_sequences(test, seq_size)"
   ]
  },
  {
   "cell_type": "code",
   "execution_count": 24,
   "metadata": {},
   "outputs": [
    {
     "name": "stdout",
     "output_type": "stream",
     "text": [
      "Shape of training set: (161, 10)\n",
      "Shape of test set: (79, 10)\n"
     ]
    }
   ],
   "source": [
    "#Compare trainX and dataset. You can see that X= values at t, t+1 and t+2\n",
    "#whereas Y is the value that follows, t+3 (since our sequence size is 3)\n",
    "\n",
    "print(\"Shape of training set: {}\".format(trainX.shape))\n",
    "print(\"Shape of test set: {}\".format(testX.shape))"
   ]
  },
  {
   "cell_type": "code",
   "execution_count": 25,
   "metadata": {},
   "outputs": [
    {
     "name": "stdout",
     "output_type": "stream",
     "text": [
      "Build deep model...\n",
      "Model: \"sequential\"\n",
      "_________________________________________________________________\n",
      " Layer (type)                Output Shape              Param #   \n",
      "=================================================================\n",
      " dense (Dense)               (None, 64)                704       \n",
      "                                                                 \n",
      " dense_1 (Dense)             (None, 32)                2080      \n",
      "                                                                 \n",
      " dense_2 (Dense)             (None, 1)                 33        \n",
      "                                                                 \n",
      "=================================================================\n",
      "Total params: 2,817\n",
      "Trainable params: 2,817\n",
      "Non-trainable params: 0\n",
      "_________________________________________________________________\n",
      "None\n",
      "Epoch 1/100\n",
      "6/6 - 1s - loss: 0.1478 - acc: 0.0062 - val_loss: 0.0204 - val_acc: 0.0127 - 907ms/epoch - 151ms/step\n",
      "Epoch 2/100\n",
      "6/6 - 0s - loss: 0.0220 - acc: 0.0000e+00 - val_loss: 0.0409 - val_acc: 0.0127 - 36ms/epoch - 6ms/step\n",
      "Epoch 3/100\n",
      "6/6 - 0s - loss: 0.0441 - acc: 0.0000e+00 - val_loss: 0.0222 - val_acc: 0.0127 - 42ms/epoch - 7ms/step\n",
      "Epoch 4/100\n",
      "6/6 - 0s - loss: 0.0216 - acc: 0.0000e+00 - val_loss: 0.0193 - val_acc: 0.0127 - 40ms/epoch - 7ms/step\n",
      "Epoch 5/100\n",
      "6/6 - 0s - loss: 0.0231 - acc: 0.0000e+00 - val_loss: 0.0245 - val_acc: 0.0127 - 51ms/epoch - 9ms/step\n",
      "Epoch 6/100\n",
      "6/6 - 0s - loss: 0.0273 - acc: 0.0000e+00 - val_loss: 0.0261 - val_acc: 0.0127 - 45ms/epoch - 8ms/step\n",
      "Epoch 7/100\n",
      "6/6 - 0s - loss: 0.0238 - acc: 0.0000e+00 - val_loss: 0.0162 - val_acc: 0.0127 - 35ms/epoch - 6ms/step\n",
      "Epoch 8/100\n",
      "6/6 - 0s - loss: 0.0201 - acc: 0.0000e+00 - val_loss: 0.0152 - val_acc: 0.0127 - 37ms/epoch - 6ms/step\n",
      "Epoch 9/100\n",
      "6/6 - 0s - loss: 0.0211 - acc: 0.0000e+00 - val_loss: 0.0153 - val_acc: 0.0127 - 31ms/epoch - 5ms/step\n",
      "Epoch 10/100\n",
      "6/6 - 0s - loss: 0.0203 - acc: 0.0000e+00 - val_loss: 0.0153 - val_acc: 0.0127 - 35ms/epoch - 6ms/step\n",
      "Epoch 11/100\n",
      "6/6 - 0s - loss: 0.0200 - acc: 0.0000e+00 - val_loss: 0.0156 - val_acc: 0.0127 - 31ms/epoch - 5ms/step\n",
      "Epoch 12/100\n",
      "6/6 - 0s - loss: 0.0194 - acc: 0.0000e+00 - val_loss: 0.0146 - val_acc: 0.0127 - 32ms/epoch - 5ms/step\n",
      "Epoch 13/100\n",
      "6/6 - 0s - loss: 0.0197 - acc: 0.0000e+00 - val_loss: 0.0143 - val_acc: 0.0127 - 34ms/epoch - 6ms/step\n",
      "Epoch 14/100\n",
      "6/6 - 0s - loss: 0.0189 - acc: 0.0000e+00 - val_loss: 0.0149 - val_acc: 0.0127 - 31ms/epoch - 5ms/step\n",
      "Epoch 15/100\n",
      "6/6 - 0s - loss: 0.0187 - acc: 0.0000e+00 - val_loss: 0.0165 - val_acc: 0.0127 - 31ms/epoch - 5ms/step\n",
      "Epoch 16/100\n",
      "6/6 - 0s - loss: 0.0228 - acc: 0.0000e+00 - val_loss: 0.0241 - val_acc: 0.0127 - 36ms/epoch - 6ms/step\n",
      "Epoch 17/100\n",
      "6/6 - 0s - loss: 0.0215 - acc: 0.0000e+00 - val_loss: 0.0145 - val_acc: 0.0127 - 33ms/epoch - 6ms/step\n",
      "Epoch 18/100\n",
      "6/6 - 0s - loss: 0.0194 - acc: 0.0000e+00 - val_loss: 0.0153 - val_acc: 0.0127 - 36ms/epoch - 6ms/step\n",
      "Epoch 19/100\n",
      "6/6 - 0s - loss: 0.0201 - acc: 0.0000e+00 - val_loss: 0.0141 - val_acc: 0.0127 - 33ms/epoch - 5ms/step\n",
      "Epoch 20/100\n",
      "6/6 - 0s - loss: 0.0186 - acc: 0.0000e+00 - val_loss: 0.0139 - val_acc: 0.0127 - 35ms/epoch - 6ms/step\n",
      "Epoch 21/100\n",
      "6/6 - 0s - loss: 0.0185 - acc: 0.0000e+00 - val_loss: 0.0138 - val_acc: 0.0127 - 33ms/epoch - 6ms/step\n",
      "Epoch 22/100\n",
      "6/6 - 0s - loss: 0.0181 - acc: 0.0000e+00 - val_loss: 0.0141 - val_acc: 0.0127 - 37ms/epoch - 6ms/step\n",
      "Epoch 23/100\n",
      "6/6 - 0s - loss: 0.0180 - acc: 0.0000e+00 - val_loss: 0.0141 - val_acc: 0.0127 - 32ms/epoch - 5ms/step\n",
      "Epoch 24/100\n",
      "6/6 - 0s - loss: 0.0178 - acc: 0.0000e+00 - val_loss: 0.0137 - val_acc: 0.0127 - 40ms/epoch - 7ms/step\n",
      "Epoch 25/100\n",
      "6/6 - 0s - loss: 0.0181 - acc: 0.0000e+00 - val_loss: 0.0137 - val_acc: 0.0127 - 45ms/epoch - 8ms/step\n",
      "Epoch 26/100\n",
      "6/6 - 0s - loss: 0.0175 - acc: 0.0000e+00 - val_loss: 0.0136 - val_acc: 0.0127 - 42ms/epoch - 7ms/step\n",
      "Epoch 27/100\n",
      "6/6 - 0s - loss: 0.0173 - acc: 0.0000e+00 - val_loss: 0.0149 - val_acc: 0.0127 - 45ms/epoch - 8ms/step\n",
      "Epoch 28/100\n",
      "6/6 - 0s - loss: 0.0179 - acc: 0.0000e+00 - val_loss: 0.0149 - val_acc: 0.0127 - 34ms/epoch - 6ms/step\n",
      "Epoch 29/100\n",
      "6/6 - 0s - loss: 0.0173 - acc: 0.0000e+00 - val_loss: 0.0137 - val_acc: 0.0127 - 32ms/epoch - 5ms/step\n",
      "Epoch 30/100\n",
      "6/6 - 0s - loss: 0.0172 - acc: 0.0000e+00 - val_loss: 0.0202 - val_acc: 0.0127 - 47ms/epoch - 8ms/step\n",
      "Epoch 31/100\n",
      "6/6 - 0s - loss: 0.0327 - acc: 0.0000e+00 - val_loss: 0.0469 - val_acc: 0.0127 - 29ms/epoch - 5ms/step\n",
      "Epoch 32/100\n",
      "6/6 - 0s - loss: 0.0283 - acc: 0.0000e+00 - val_loss: 0.0150 - val_acc: 0.0127 - 35ms/epoch - 6ms/step\n",
      "Epoch 33/100\n",
      "6/6 - 0s - loss: 0.0190 - acc: 0.0000e+00 - val_loss: 0.0170 - val_acc: 0.0127 - 36ms/epoch - 6ms/step\n",
      "Epoch 34/100\n",
      "6/6 - 0s - loss: 0.0194 - acc: 0.0000e+00 - val_loss: 0.0187 - val_acc: 0.0127 - 38ms/epoch - 6ms/step\n",
      "Epoch 35/100\n",
      "6/6 - 0s - loss: 0.0194 - acc: 0.0000e+00 - val_loss: 0.0157 - val_acc: 0.0127 - 38ms/epoch - 6ms/step\n",
      "Epoch 36/100\n",
      "6/6 - 0s - loss: 0.0181 - acc: 0.0000e+00 - val_loss: 0.0144 - val_acc: 0.0127 - 34ms/epoch - 6ms/step\n",
      "Epoch 37/100\n",
      "6/6 - 0s - loss: 0.0178 - acc: 0.0000e+00 - val_loss: 0.0186 - val_acc: 0.0127 - 39ms/epoch - 7ms/step\n",
      "Epoch 38/100\n",
      "6/6 - 0s - loss: 0.0256 - acc: 0.0000e+00 - val_loss: 0.0296 - val_acc: 0.0127 - 35ms/epoch - 6ms/step\n",
      "Epoch 39/100\n",
      "6/6 - 0s - loss: 0.0210 - acc: 0.0000e+00 - val_loss: 0.0134 - val_acc: 0.0127 - 38ms/epoch - 6ms/step\n",
      "Epoch 40/100\n",
      "6/6 - 0s - loss: 0.0227 - acc: 0.0000e+00 - val_loss: 0.0179 - val_acc: 0.0127 - 35ms/epoch - 6ms/step\n",
      "Epoch 41/100\n",
      "6/6 - 0s - loss: 0.0214 - acc: 0.0000e+00 - val_loss: 0.0132 - val_acc: 0.0127 - 35ms/epoch - 6ms/step\n",
      "Epoch 42/100\n",
      "6/6 - 0s - loss: 0.0176 - acc: 0.0000e+00 - val_loss: 0.0160 - val_acc: 0.0127 - 37ms/epoch - 6ms/step\n",
      "Epoch 43/100\n",
      "6/6 - 0s - loss: 0.0180 - acc: 0.0000e+00 - val_loss: 0.0133 - val_acc: 0.0127 - 38ms/epoch - 6ms/step\n",
      "Epoch 44/100\n",
      "6/6 - 0s - loss: 0.0170 - acc: 0.0000e+00 - val_loss: 0.0140 - val_acc: 0.0127 - 35ms/epoch - 6ms/step\n",
      "Epoch 45/100\n",
      "6/6 - 0s - loss: 0.0178 - acc: 0.0000e+00 - val_loss: 0.0169 - val_acc: 0.0127 - 42ms/epoch - 7ms/step\n",
      "Epoch 46/100\n",
      "6/6 - 0s - loss: 0.0178 - acc: 0.0000e+00 - val_loss: 0.0139 - val_acc: 0.0127 - 33ms/epoch - 6ms/step\n",
      "Epoch 47/100\n",
      "6/6 - 0s - loss: 0.0170 - acc: 0.0000e+00 - val_loss: 0.0134 - val_acc: 0.0127 - 38ms/epoch - 6ms/step\n",
      "Epoch 48/100\n",
      "6/6 - 0s - loss: 0.0170 - acc: 0.0000e+00 - val_loss: 0.0136 - val_acc: 0.0127 - 34ms/epoch - 6ms/step\n",
      "Epoch 49/100\n",
      "6/6 - 0s - loss: 0.0171 - acc: 0.0000e+00 - val_loss: 0.0131 - val_acc: 0.0127 - 36ms/epoch - 6ms/step\n",
      "Epoch 50/100\n",
      "6/6 - 0s - loss: 0.0170 - acc: 0.0000e+00 - val_loss: 0.0137 - val_acc: 0.0127 - 36ms/epoch - 6ms/step\n",
      "Epoch 51/100\n",
      "6/6 - 0s - loss: 0.0167 - acc: 0.0000e+00 - val_loss: 0.0130 - val_acc: 0.0127 - 39ms/epoch - 7ms/step\n",
      "Epoch 52/100\n",
      "6/6 - 0s - loss: 0.0171 - acc: 0.0000e+00 - val_loss: 0.0128 - val_acc: 0.0127 - 41ms/epoch - 7ms/step\n",
      "Epoch 53/100\n",
      "6/6 - 0s - loss: 0.0172 - acc: 0.0000e+00 - val_loss: 0.0127 - val_acc: 0.0127 - 37ms/epoch - 6ms/step\n",
      "Epoch 54/100\n",
      "6/6 - 0s - loss: 0.0171 - acc: 0.0000e+00 - val_loss: 0.0127 - val_acc: 0.0127 - 34ms/epoch - 6ms/step\n",
      "Epoch 55/100\n",
      "6/6 - 0s - loss: 0.0165 - acc: 0.0000e+00 - val_loss: 0.0135 - val_acc: 0.0127 - 35ms/epoch - 6ms/step\n",
      "Epoch 56/100\n",
      "6/6 - 0s - loss: 0.0166 - acc: 0.0000e+00 - val_loss: 0.0131 - val_acc: 0.0127 - 43ms/epoch - 7ms/step\n",
      "Epoch 57/100\n",
      "6/6 - 0s - loss: 0.0165 - acc: 0.0000e+00 - val_loss: 0.0127 - val_acc: 0.0127 - 37ms/epoch - 6ms/step\n",
      "Epoch 58/100\n",
      "6/6 - 0s - loss: 0.0164 - acc: 0.0000e+00 - val_loss: 0.0147 - val_acc: 0.0127 - 50ms/epoch - 8ms/step\n",
      "Epoch 59/100\n",
      "6/6 - 0s - loss: 0.0165 - acc: 0.0000e+00 - val_loss: 0.0132 - val_acc: 0.0127 - 43ms/epoch - 7ms/step\n",
      "Epoch 60/100\n",
      "6/6 - 0s - loss: 0.0163 - acc: 0.0000e+00 - val_loss: 0.0127 - val_acc: 0.0127 - 39ms/epoch - 7ms/step\n",
      "Epoch 61/100\n",
      "6/6 - 0s - loss: 0.0166 - acc: 0.0000e+00 - val_loss: 0.0133 - val_acc: 0.0127 - 37ms/epoch - 6ms/step\n",
      "Epoch 62/100\n",
      "6/6 - 0s - loss: 0.0161 - acc: 0.0000e+00 - val_loss: 0.0144 - val_acc: 0.0127 - 41ms/epoch - 7ms/step\n",
      "Epoch 63/100\n",
      "6/6 - 0s - loss: 0.0163 - acc: 0.0000e+00 - val_loss: 0.0141 - val_acc: 0.0127 - 31ms/epoch - 5ms/step\n",
      "Epoch 64/100\n",
      "6/6 - 0s - loss: 0.0161 - acc: 0.0000e+00 - val_loss: 0.0128 - val_acc: 0.0127 - 65ms/epoch - 11ms/step\n",
      "Epoch 65/100\n",
      "6/6 - 0s - loss: 0.0161 - acc: 0.0000e+00 - val_loss: 0.0140 - val_acc: 0.0127 - 40ms/epoch - 7ms/step\n",
      "Epoch 66/100\n",
      "6/6 - 0s - loss: 0.0162 - acc: 0.0000e+00 - val_loss: 0.0122 - val_acc: 0.0127 - 35ms/epoch - 6ms/step\n",
      "Epoch 67/100\n",
      "6/6 - 0s - loss: 0.0165 - acc: 0.0000e+00 - val_loss: 0.0127 - val_acc: 0.0127 - 37ms/epoch - 6ms/step\n",
      "Epoch 68/100\n",
      "6/6 - 0s - loss: 0.0163 - acc: 0.0000e+00 - val_loss: 0.0139 - val_acc: 0.0127 - 32ms/epoch - 5ms/step\n",
      "Epoch 69/100\n",
      "6/6 - 0s - loss: 0.0158 - acc: 0.0000e+00 - val_loss: 0.0136 - val_acc: 0.0127 - 37ms/epoch - 6ms/step\n",
      "Epoch 70/100\n",
      "6/6 - 0s - loss: 0.0181 - acc: 0.0000e+00 - val_loss: 0.0135 - val_acc: 0.0127 - 38ms/epoch - 6ms/step\n",
      "Epoch 71/100\n",
      "6/6 - 0s - loss: 0.0177 - acc: 0.0000e+00 - val_loss: 0.0182 - val_acc: 0.0127 - 34ms/epoch - 6ms/step\n",
      "Epoch 72/100\n",
      "6/6 - 0s - loss: 0.0173 - acc: 0.0000e+00 - val_loss: 0.0131 - val_acc: 0.0127 - 37ms/epoch - 6ms/step\n",
      "Epoch 73/100\n",
      "6/6 - 0s - loss: 0.0161 - acc: 0.0000e+00 - val_loss: 0.0122 - val_acc: 0.0127 - 37ms/epoch - 6ms/step\n",
      "Epoch 74/100\n",
      "6/6 - 0s - loss: 0.0160 - acc: 0.0000e+00 - val_loss: 0.0129 - val_acc: 0.0127 - 35ms/epoch - 6ms/step\n",
      "Epoch 75/100\n",
      "6/6 - 0s - loss: 0.0157 - acc: 0.0000e+00 - val_loss: 0.0138 - val_acc: 0.0127 - 37ms/epoch - 6ms/step\n",
      "Epoch 76/100\n",
      "6/6 - 0s - loss: 0.0159 - acc: 0.0000e+00 - val_loss: 0.0127 - val_acc: 0.0127 - 32ms/epoch - 5ms/step\n",
      "Epoch 77/100\n",
      "6/6 - 0s - loss: 0.0160 - acc: 0.0000e+00 - val_loss: 0.0121 - val_acc: 0.0127 - 36ms/epoch - 6ms/step\n",
      "Epoch 78/100\n",
      "6/6 - 0s - loss: 0.0159 - acc: 0.0000e+00 - val_loss: 0.0133 - val_acc: 0.0127 - 34ms/epoch - 6ms/step\n",
      "Epoch 79/100\n",
      "6/6 - 0s - loss: 0.0159 - acc: 0.0000e+00 - val_loss: 0.0135 - val_acc: 0.0127 - 38ms/epoch - 6ms/step\n",
      "Epoch 80/100\n",
      "6/6 - 0s - loss: 0.0178 - acc: 0.0000e+00 - val_loss: 0.0135 - val_acc: 0.0127 - 33ms/epoch - 5ms/step\n",
      "Epoch 81/100\n",
      "6/6 - 0s - loss: 0.0164 - acc: 0.0000e+00 - val_loss: 0.0141 - val_acc: 0.0127 - 34ms/epoch - 6ms/step\n",
      "Epoch 82/100\n",
      "6/6 - 0s - loss: 0.0158 - acc: 0.0000e+00 - val_loss: 0.0119 - val_acc: 0.0127 - 37ms/epoch - 6ms/step\n",
      "Epoch 83/100\n",
      "6/6 - 0s - loss: 0.0159 - acc: 0.0000e+00 - val_loss: 0.0146 - val_acc: 0.0127 - 39ms/epoch - 7ms/step\n",
      "Epoch 84/100\n",
      "6/6 - 0s - loss: 0.0160 - acc: 0.0000e+00 - val_loss: 0.0119 - val_acc: 0.0127 - 32ms/epoch - 5ms/step\n",
      "Epoch 85/100\n",
      "6/6 - 0s - loss: 0.0176 - acc: 0.0000e+00 - val_loss: 0.0119 - val_acc: 0.0127 - 37ms/epoch - 6ms/step\n",
      "Epoch 86/100\n",
      "6/6 - 0s - loss: 0.0162 - acc: 0.0000e+00 - val_loss: 0.0169 - val_acc: 0.0127 - 34ms/epoch - 6ms/step\n",
      "Epoch 87/100\n",
      "6/6 - 0s - loss: 0.0167 - acc: 0.0000e+00 - val_loss: 0.0122 - val_acc: 0.0127 - 31ms/epoch - 5ms/step\n",
      "Epoch 88/100\n",
      "6/6 - 0s - loss: 0.0168 - acc: 0.0000e+00 - val_loss: 0.0149 - val_acc: 0.0127 - 44ms/epoch - 7ms/step\n",
      "Epoch 89/100\n",
      "6/6 - 0s - loss: 0.0284 - acc: 0.0000e+00 - val_loss: 0.0467 - val_acc: 0.0127 - 35ms/epoch - 6ms/step\n",
      "Epoch 90/100\n",
      "6/6 - 0s - loss: 0.0270 - acc: 0.0000e+00 - val_loss: 0.0154 - val_acc: 0.0127 - 38ms/epoch - 6ms/step\n",
      "Epoch 91/100\n",
      "6/6 - 0s - loss: 0.0265 - acc: 0.0000e+00 - val_loss: 0.0162 - val_acc: 0.0127 - 35ms/epoch - 6ms/step\n",
      "Epoch 92/100\n",
      "6/6 - 0s - loss: 0.0187 - acc: 0.0000e+00 - val_loss: 0.0237 - val_acc: 0.0127 - 35ms/epoch - 6ms/step\n",
      "Epoch 93/100\n",
      "6/6 - 0s - loss: 0.0206 - acc: 0.0000e+00 - val_loss: 0.0142 - val_acc: 0.0127 - 34ms/epoch - 6ms/step\n",
      "Epoch 94/100\n",
      "6/6 - 0s - loss: 0.0179 - acc: 0.0000e+00 - val_loss: 0.0137 - val_acc: 0.0127 - 39ms/epoch - 6ms/step\n",
      "Epoch 95/100\n",
      "6/6 - 0s - loss: 0.0185 - acc: 0.0000e+00 - val_loss: 0.0135 - val_acc: 0.0127 - 34ms/epoch - 6ms/step\n",
      "Epoch 96/100\n",
      "6/6 - 0s - loss: 0.0177 - acc: 0.0000e+00 - val_loss: 0.0188 - val_acc: 0.0127 - 33ms/epoch - 6ms/step\n",
      "Epoch 97/100\n",
      "6/6 - 0s - loss: 0.0184 - acc: 0.0000e+00 - val_loss: 0.0140 - val_acc: 0.0127 - 37ms/epoch - 6ms/step\n",
      "Epoch 98/100\n",
      "6/6 - 0s - loss: 0.0169 - acc: 0.0000e+00 - val_loss: 0.0126 - val_acc: 0.0127 - 38ms/epoch - 6ms/step\n",
      "Epoch 99/100\n",
      "6/6 - 0s - loss: 0.0175 - acc: 0.0000e+00 - val_loss: 0.0131 - val_acc: 0.0127 - 32ms/epoch - 5ms/step\n",
      "Epoch 100/100\n",
      "6/6 - 0s - loss: 0.0163 - acc: 0.0000e+00 - val_loss: 0.0175 - val_acc: 0.0127 - 40ms/epoch - 7ms/step\n",
      "Lama eksekusi:  5.130947199999355 detik\n"
     ]
    }
   ],
   "source": [
    "#Input dimensions are... (N x seq_size)\n",
    "print('Build deep model...')\n",
    "# create and fit dense model\n",
    "model = Sequential()\n",
    "model.add(Dense(64, input_dim=seq_size, activation='relu')) #12\n",
    "model.add(Dense(32, activation='relu'))  #8\n",
    "model.add(Dense(1))\n",
    "model.compile(loss='mean_squared_error', optimizer='adam', metrics = ['acc'])\n",
    "print(model.summary()) \n",
    "\n",
    "#for layer in model.layers:\n",
    "#print(layer.input_shape)\n",
    "\n",
    "#Model.fit(trainX, trainY, epochs=200, batch_size=2, verbose=2)\n",
    "#Menghitung waktu yang diperlukan untuk pemodelan\n",
    "start = timeit.default_timer()\n",
    "model.fit(trainX, trainY, validation_data=(testX, testY),\n",
    "          verbose=2, epochs=100)\n",
    "stop = timeit.default_timer()\n",
    "lama_eksekusi = stop - start\n",
    "print(\"Lama eksekusi: \",lama_eksekusi,\"detik\")"
   ]
  },
  {
   "cell_type": "code",
   "execution_count": 26,
   "metadata": {},
   "outputs": [
    {
     "name": "stdout",
     "output_type": "stream",
     "text": [
      "6/6 [==============================] - 0s 2ms/step\n",
      "3/3 [==============================] - 0s 1ms/step\n"
     ]
    }
   ],
   "source": [
    "#Make predictions\n",
    "trainPredict = model.predict(trainX)\n",
    "testPredict = model.predict(testX)"
   ]
  },
  {
   "cell_type": "code",
   "execution_count": 27,
   "metadata": {},
   "outputs": [],
   "source": [
    "#Estimate model performance\n",
    "#Since we used minmaxscaler we can now use scaler.inverse_transform\n",
    "#to invert the transformation.\n",
    "\n",
    "trainPredict = scaler.inverse_transform(trainPredict)\n",
    "trainY_inverse = scaler.inverse_transform([trainY])\n",
    "testPredict = scaler.inverse_transform(testPredict)\n",
    "testY_inverse = scaler.inverse_transform([testY])"
   ]
  },
  {
   "cell_type": "code",
   "execution_count": 28,
   "metadata": {},
   "outputs": [
    {
     "name": "stdout",
     "output_type": "stream",
     "text": [
      "Train Score: 12.88 RMSE\n",
      "Test Score: 12.78 RMSE\n"
     ]
    }
   ],
   "source": [
    "# calculate root mean squared error\n",
    "trainScore = math.sqrt(mean_squared_error(trainY_inverse[0], trainPredict[:,0]))\n",
    "print('Train Score: %.2f RMSE' % (trainScore))\n",
    "testScore = math.sqrt(mean_squared_error(testY_inverse[0], testPredict[:,0]))\n",
    "print('Test Score: %.2f RMSE' % (testScore))"
   ]
  },
  {
   "cell_type": "code",
   "execution_count": 29,
   "metadata": {},
   "outputs": [
    {
     "name": "stdout",
     "output_type": "stream",
     "text": [
      "Mean Absolute Error (MAE):  9.168119505856028\n"
     ]
    }
   ],
   "source": [
    "#Menghitung mean absolute error\n",
    "mae = mean_absolute_error(trainY_inverse[0], trainPredict[:,0])\n",
    "print(\"Mean Absolute Error (MAE): \", mae)"
   ]
  },
  {
   "cell_type": "code",
   "execution_count": 30,
   "metadata": {},
   "outputs": [],
   "source": [
    "#Shift train predictions for plotting\n",
    "#we must shift the predictions so that they align on the x-axis with the original dataset. \n",
    "trainPredictPlot = np.empty_like(dataset)\n",
    "trainPredictPlot[:, :] = np.nan\n",
    "trainPredictPlot[seq_size:len(trainPredict)+seq_size, :] = trainPredict\n",
    "\n",
    "#Shift test predictions for plotting\n",
    "testPredictPlot = np.empty_like(dataset)\n",
    "testPredictPlot[:, :] = np.nan\n",
    "testPredictPlot[len(trainPredict)+(seq_size*2)+1:len(dataset)-1, :] = testPredict"
   ]
  },
  {
   "cell_type": "code",
   "execution_count": 31,
   "metadata": {},
   "outputs": [
    {
     "data": {
      "image/png": "[encoded data removed]",
      "text/plain": [
       "<Figure size 432x288 with 1 Axes>"
      ]
     },
     "metadata": {
      "needs_background": "light"
     },
     "output_type": "display_data"
    }
   ],
   "source": [
    "#Plot baseline and predictions\n",
    "plt.plot(scaler.inverse_transform(dataset))\n",
    "plt.plot(trainPredictPlot)\n",
    "plt.plot(testPredictPlot)\n",
    "plt.show()"
   ]
  }
 ],
 "metadata": {
  "kernelspec": {
   "display_name": "Python 3.10.5 64-bit",
   "language": "python",
   "name": "python3"
  },
  "language_info": {
   "codemirror_mode": {
    "name": "ipython",
    "version": 3
   },
   "file_extension": ".py",
   "mimetype": "text/x-python",
   "name": "python",
   "nbconvert_exporter": "python",
   "pygments_lexer": "ipython3",
   "version": "3.10.5"
  },
  "orig_nbformat": 4,
  "vscode": {
   "interpreter": {
    "hash": "a9cff5a362bc38ef45d817ae74b1af54d6a076e3d773891282bce078b815ba34"
   }
  }
 },
 "nbformat": 4,
 "nbformat_minor": 2
}
